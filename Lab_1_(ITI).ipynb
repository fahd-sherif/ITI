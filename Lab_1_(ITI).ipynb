{
  "nbformat": 4,
  "nbformat_minor": 0,
  "metadata": {
    "colab": {
      "provenance": [],
      "authorship_tag": "ABX9TyMr81nzWuUk0ct1xqtrR1X2",
      "include_colab_link": true
    },
    "kernelspec": {
      "name": "python3",
      "display_name": "Python 3"
    },
    "language_info": {
      "name": "python"
    }
  },
  "cells": [
    {
      "cell_type": "markdown",
      "metadata": {
        "id": "view-in-github",
        "colab_type": "text"
      },
      "source": [
        "<a href=\"https://colab.research.google.com/github/fahd-sherif/ITI/blob/main/Lab_1_(ITI).ipynb\" target=\"_parent\"><img src=\"https://colab.research.google.com/assets/colab-badge.svg\" alt=\"Open In Colab\"/></a>"
      ]
    },
    {
      "cell_type": "code",
      "execution_count": 94,
      "metadata": {
        "colab": {
          "base_uri": "https://localhost:8080/"
        },
        "id": "eSfQXujSkh2o",
        "outputId": "d98ed27a-42d5-4925-fbfc-9c04be9ca71e"
      },
      "outputs": [
        {
          "output_type": "stream",
          "name": "stdout",
          "text": [
            "7\n",
            "2\n",
            "17\n",
            "27\n",
            "1.6666666666666667\n",
            "1\n",
            "2\n",
            "7.0\n",
            "2.0\n",
            "17.0\n",
            "27.0\n",
            "1.6666666666666667\n",
            "1.0\n",
            "2.0\n"
          ]
        }
      ],
      "source": [
        "# Q1\n",
        "\n",
        "num1=3\n",
        "num2=4\n",
        "num3=5\n",
        "print(num1+num2)\n",
        "print(num3-num1)\n",
        "print(num1*num2+num3)\n",
        "print(num1*(num2+num3))\n",
        "print(num3/num1)\n",
        "print(num3//num1)\n",
        "print(num3%num1)\n",
        "\n",
        "#change the variables\n",
        "fnum1=float(num1)\n",
        "fnum2=float(num2)\n",
        "fnum3=float(num3)\n",
        "print(fnum1+fnum2)\n",
        "print(fnum3-fnum1)\n",
        "print(fnum1*fnum2+fnum3)\n",
        "print(fnum1*(fnum2+fnum3))\n",
        "print(fnum3/fnum1)\n",
        "print(fnum3//fnum1)\n",
        "print(fnum3%fnum1)"
      ]
    },
    {
      "cell_type": "code",
      "source": [
        "# Q2\n",
        "\n",
        "x=1\n",
        "y=2\n",
        "z=3\n",
        "g=4\n",
        "\n",
        "print(x+y*z/g)\n",
        "print(y**z)"
      ],
      "metadata": {
        "colab": {
          "base_uri": "https://localhost:8080/"
        },
        "id": "p6YmcOBOnZXo",
        "outputId": "85734f22-12f8-4b38-c603-e385c24c21c6"
      },
      "execution_count": 95,
      "outputs": [
        {
          "output_type": "stream",
          "name": "stdout",
          "text": [
            "2.5\n",
            "8\n"
          ]
        }
      ]
    },
    {
      "cell_type": "code",
      "source": [
        "# Q3\n",
        "\n",
        "str_a=\"python\"\n",
        "str_b=\"is a\"\n",
        "str_c=\"times fun language\"\n",
        "num=1000\n",
        "st_num=str(num)\n",
        "str_ab=str_a + str_b +\" \"+ st_num +\" \"+ str_c\n",
        "print(str_ab)\n",
        "str_a10=str_a*10\n",
        "print(str_a10)"
      ],
      "metadata": {
        "colab": {
          "base_uri": "https://localhost:8080/"
        },
        "id": "PjarNNu4pQlG",
        "outputId": "2302248b-78cb-462c-fc57-6a8bb98db88f"
      },
      "execution_count": 112,
      "outputs": [
        {
          "output_type": "stream",
          "name": "stdout",
          "text": [
            "pythonis a 1000 times fun language\n",
            "pythonpythonpythonpythonpythonpythonpythonpythonpythonpython\n"
          ]
        }
      ]
    },
    {
      "cell_type": "code",
      "source": [
        "import math\n",
        "# Q4\n",
        "\n",
        "num_1=-5\n",
        "num_2=3.2\n",
        "num_3=5.7\n",
        "num_4=625\n",
        "\n",
        "print(abs(num_1))\n",
        "print(round(num_2))\n",
        "print(round(num_3))\n",
        "print(math.sqrt(num_4))"
      ],
      "metadata": {
        "colab": {
          "base_uri": "https://localhost:8080/"
        },
        "id": "U2ATm3qt4us6",
        "outputId": "707b0f35-85aa-4a9d-eba1-fc05776372a6"
      },
      "execution_count": 119,
      "outputs": [
        {
          "output_type": "stream",
          "name": "stdout",
          "text": [
            "5\n",
            "3\n",
            "6\n",
            "25.0\n"
          ]
        }
      ]
    },
    {
      "cell_type": "code",
      "source": [
        "# Q5\n",
        "num1=int(input(\"enter the num1\"))\n",
        "num2=int(input(\"enter the num2\"))\n",
        "operation=str(input(\"choose the operation ex: (+ , - , * , / , %)\"))\n",
        "\n",
        "if operation==\"+\":\n",
        "  print(num1+num2)\n",
        "elif operation==\"-\":\n",
        "  print(num1-num2)\n",
        "elif operation==\"*\":\n",
        "    print(num1*num2)\n",
        "elif operation==\"/\":\n",
        "  print(num1/num2)\n",
        "elif operation==\"%\":\n",
        "  print(num1%num2)\n",
        "else:\n",
        "  print(\"error\")\n"
      ],
      "metadata": {
        "colab": {
          "base_uri": "https://localhost:8080/"
        },
        "id": "SwSVaGTI68Y-",
        "outputId": "b9b8b8a1-8d40-4e92-8900-26f0178690d9"
      },
      "execution_count": 125,
      "outputs": [
        {
          "output_type": "stream",
          "name": "stdout",
          "text": [
            "enter the num155\n",
            "enter the num220\n",
            "choose the operation ex: (+ , - , * , / , %)-\n",
            "35\n"
          ]
        }
      ]
    },
    {
      "cell_type": "code",
      "source": [
        "#odd or even\n",
        "\n",
        "num=int(input(\"enter the num\"))\n",
        "if num%2==0:\n",
        "  print(\"the num is even\")\n",
        "else:\n",
        "  print(\"the num is odd\")\n"
      ],
      "metadata": {
        "colab": {
          "base_uri": "https://localhost:8080/"
        },
        "id": "6sXiCr_Dr71n",
        "outputId": "6705a788-3c83-4dd0-9950-36a32820463e"
      },
      "execution_count": 97,
      "outputs": [
        {
          "output_type": "stream",
          "name": "stdout",
          "text": [
            "enter the num5\n",
            "the num is odd\n"
          ]
        }
      ]
    },
    {
      "cell_type": "code",
      "source": [
        "#pass or fail\n",
        "\n",
        "degree=int(input(\"enter the degree (0-100)\"))\n",
        "if degree>=50:\n",
        "  print(\"pass\")\n",
        "else:\n",
        "  print(\"fail\")\n"
      ],
      "metadata": {
        "colab": {
          "base_uri": "https://localhost:8080/"
        },
        "id": "ALeZAXJHtF66",
        "outputId": "079ac667-6279-4bbb-d845-2117d28f49cc"
      },
      "execution_count": 98,
      "outputs": [
        {
          "output_type": "stream",
          "name": "stdout",
          "text": [
            "enter the degree (0-100)55\n",
            "pass\n"
          ]
        }
      ]
    },
    {
      "cell_type": "code",
      "source": [
        "#largest of 3 nums\n",
        "\n",
        "num1=int(input(\"enter the num1\"))\n",
        "num2=int(input(\"enter the num2\"))\n",
        "num3=int(input(\"enter the num3\"))\n",
        "\n",
        "if num1>= num2 and num1 >= num3:\n",
        "  larg=num1\n",
        "elif num2 >= num1 and num2 >= num3:\n",
        "  larg=num2\n",
        "else:\n",
        "  larg=num3\n",
        "print(\"the largest num is \",larg)\n"
      ],
      "metadata": {
        "colab": {
          "base_uri": "https://localhost:8080/"
        },
        "id": "L4Wjbtp9tufC",
        "outputId": "83020810-d76c-47e8-8e93-9a88fd3dd6f4"
      },
      "execution_count": 102,
      "outputs": [
        {
          "output_type": "stream",
          "name": "stdout",
          "text": [
            "enter the num115\n",
            "enter the num210\n",
            "enter the num330\n",
            "the largest num is  30\n"
          ]
        }
      ]
    },
    {
      "cell_type": "code",
      "source": [
        "#counting with for\n",
        "\n",
        "for n in range(1,11):\n",
        "  print(n)"
      ],
      "metadata": {
        "colab": {
          "base_uri": "https://localhost:8080/"
        },
        "id": "xj9meGcLv48A",
        "outputId": "34ccb1c7-8871-4b4b-e5d9-cb8c66048169"
      },
      "execution_count": 105,
      "outputs": [
        {
          "output_type": "stream",
          "name": "stdout",
          "text": [
            "1\n",
            "2\n",
            "3\n",
            "4\n",
            "5\n",
            "6\n",
            "7\n",
            "8\n",
            "9\n",
            "10\n"
          ]
        }
      ]
    },
    {
      "cell_type": "code",
      "source": [
        "#grade calculator\n",
        "\n",
        "score=int(input(\"enter the score\"))\n",
        "\n",
        "if score >=90 and score<=100:\n",
        "  print(\"A\")\n",
        "elif score>= 80 and score<=89:\n",
        "  print(\"B\")\n",
        "elif score>= 70 and score<=79:\n",
        "  print(\"C\")\n",
        "elif score>= 60 and score<=69:\n",
        "  print(\"D\")\n",
        "else:\n",
        "  print(\"F\")"
      ],
      "metadata": {
        "colab": {
          "base_uri": "https://localhost:8080/"
        },
        "id": "Gk4oRKNAwk4K",
        "outputId": "9c966dad-fc23-4293-b0fd-38904fb5994e"
      },
      "execution_count": 128,
      "outputs": [
        {
          "output_type": "stream",
          "name": "stdout",
          "text": [
            "enter the score60\n",
            "D\n"
          ]
        }
      ]
    },
    {
      "cell_type": "code",
      "source": [
        "#multiplication table\n",
        "\n",
        "num=int(input(\"enter the num\"))\n",
        "for i in range(1,11):\n",
        "  print(i*num)\n"
      ],
      "metadata": {
        "colab": {
          "base_uri": "https://localhost:8080/"
        },
        "id": "U2SI67bj9n4K",
        "outputId": "5c20c3c9-d4cf-4597-9499-353a840cd421"
      },
      "execution_count": 132,
      "outputs": [
        {
          "output_type": "stream",
          "name": "stdout",
          "text": [
            "enter the num3\n",
            "3\n",
            "6\n",
            "9\n",
            "12\n",
            "15\n",
            "18\n",
            "21\n",
            "24\n",
            "27\n",
            "30\n"
          ]
        }
      ]
    },
    {
      "cell_type": "code",
      "source": [
        "#sum of even number\n",
        "sum=0\n",
        "for i in range(1,51):\n",
        "  if i%2==0:\n",
        "    sum+=i\n",
        "print(sum)\n"
      ],
      "metadata": {
        "colab": {
          "base_uri": "https://localhost:8080/"
        },
        "id": "VqAmt-Ze90Nd",
        "outputId": "3a29b1a9-32f3-42c1-ce80-a26b04cae3b4"
      },
      "execution_count": 136,
      "outputs": [
        {
          "output_type": "stream",
          "name": "stdout",
          "text": [
            "650\n"
          ]
        }
      ]
    },
    {
      "cell_type": "code",
      "source": [
        "#factorial with while\n",
        "\n",
        "num=int(input(\"enter the num\"))\n",
        "factorial = 1\n",
        "i = 1\n",
        "while i <= num:\n",
        "    factorial *= i\n",
        "    i += 1\n",
        "print(\"the factorial of\", num, \"is:\",factorial)"
      ],
      "metadata": {
        "colab": {
          "base_uri": "https://localhost:8080/"
        },
        "id": "DmYdPYOR950T",
        "outputId": "b23977d3-8e9b-4684-b9a9-5163e8599adc"
      },
      "execution_count": 138,
      "outputs": [
        {
          "output_type": "stream",
          "name": "stdout",
          "text": [
            "enter the num10\n",
            "the factorial of 10 is: 3628800\n"
          ]
        }
      ]
    }
  ]
}