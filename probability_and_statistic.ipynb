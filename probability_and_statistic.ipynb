{
  "nbformat": 4,
  "nbformat_minor": 0,
  "metadata": {
    "colab": {
      "provenance": [],
      "authorship_tag": "ABX9TyMHRXKvckVamcN1WeC0bp/8",
      "include_colab_link": true
    },
    "kernelspec": {
      "name": "python3",
      "display_name": "Python 3"
    },
    "language_info": {
      "name": "python"
    }
  },
  "cells": [
    {
      "cell_type": "markdown",
      "metadata": {
        "id": "view-in-github",
        "colab_type": "text"
      },
      "source": [
        "<a href=\"https://colab.research.google.com/github/fahd-sherif/ITI/blob/main/probability_and_statistic.ipynb\" target=\"_parent\"><img src=\"https://colab.research.google.com/assets/colab-badge.svg\" alt=\"Open In Colab\"/></a>"
      ]
    },
    {
      "cell_type": "code",
      "execution_count": null,
      "metadata": {
        "id": "6XphlYmChGlk",
        "colab": {
          "base_uri": "https://localhost:8080/"
        },
        "outputId": "27bd3a24-9e46-4d6d-85dd-410da0e1f3e1"
      },
      "outputs": [
        {
          "output_type": "stream",
          "name": "stdout",
          "text": [
            "20.5\n",
            "20.5\n"
          ]
        }
      ],
      "source": [
        "import numpy as np\n",
        "ages=[18,21,20,19,22,23,20,21,22,19]\n",
        "manual_mean=sum(ages)/len(ages)\n",
        "print(manual_mean)\n",
        "numpy_mean=np.mean(ages)\n",
        "print(numpy_mean)"
      ]
    },
    {
      "cell_type": "code",
      "source": [
        "my_list=np.random.randint(10,51,15)\n",
        "print(my_list)\n",
        "sort_list=np.sort(my_list)\n",
        "print(sort_list)\n",
        "print(sort_list[7])\n",
        "list_median=np.median(my_list)\n",
        "print(list_median)"
      ],
      "metadata": {
        "colab": {
          "base_uri": "https://localhost:8080/"
        },
        "id": "6qnuyzqQKxTD",
        "outputId": "f2c0f62a-da10-4f09-aa56-719713785dc6"
      },
      "execution_count": null,
      "outputs": [
        {
          "output_type": "stream",
          "name": "stdout",
          "text": [
            "[39 37 36 22 24 28 37 30 22 47 40 28 41 38 19]\n",
            "[19 22 22 24 28 28 30 36 37 37 38 39 40 41 47]\n",
            "36\n",
            "36.0\n"
          ]
        }
      ]
    },
    {
      "cell_type": "code",
      "source": [
        "my_list=np.random.randint(10,51,15)\n",
        "print(my_list)\n",
        "sort_list=np.sort(my_list)\n",
        "print(sort_list)\n",
        "print(np.minimum(sort_list[0],sort_list[14]))\n",
        "print(np.maximum(sort_list[0],sort_list[14]))\n",
        "range=np.maximum(sort_list[0],sort_list[14])-np.minimum(sort_list[0],sort_list[14])\n",
        "print(range)\n",
        "range_numpy=np.ptp(my_list)\n",
        "print(range_numpy)"
      ],
      "metadata": {
        "colab": {
          "base_uri": "https://localhost:8080/"
        },
        "id": "UIYeNanCNxig",
        "outputId": "e4aecaab-e1cf-4408-d1a7-063de99dd7c5"
      },
      "execution_count": null,
      "outputs": [
        {
          "output_type": "stream",
          "name": "stdout",
          "text": [
            "[47 26 24 32 13 25 16 13 20 19 25 38 43 30 36]\n",
            "[13 13 16 19 20 24 25 25 26 30 32 36 38 43 47]\n",
            "13\n",
            "47\n",
            "34\n",
            "34\n"
          ]
        }
      ]
    },
    {
      "cell_type": "code",
      "source": [
        "data = [5, 7, 3, 7, 9, 10, 15, 7]\n",
        "mean = sum(data) / len(data)\n",
        "squared_diffs = [(x - mean) ** 2 for x in data]\n",
        "variance = sum(squared_diffs) / len(data)\n",
        "std_dev = variance ** 0.5\n",
        "print(\"Variance:\", variance)\n",
        "print(\"Standard Deviation:\",std_dev)\n",
        "#with numpy\n",
        "variance = np.var(data)\n",
        "std_dev = np.std(data)\n",
        "print(\"Variance:\", variance)\n",
        "print(\"Standard Deviation:\",std_dev)"
      ],
      "metadata": {
        "colab": {
          "base_uri": "https://localhost:8080/"
        },
        "id": "Nhv77fAEQRJ8",
        "outputId": "fc7d691d-1440-4e82-f0ad-1d7002cc73be"
      },
      "execution_count": null,
      "outputs": [
        {
          "output_type": "stream",
          "name": "stdout",
          "text": [
            "Variance: 11.359375\n",
            "Standard Deviation: 3.370367190678191\n",
            "Variance: 11.359375\n",
            "Standard Deviation: 3.370367190678191\n"
          ]
        }
      ]
    },
    {
      "cell_type": "code",
      "source": [
        "data = [5, 7, 3, 7, 9, 10, 15, 7]\n",
        "q1 = np.percentile(data, 25)\n",
        "q2 = np.percentile(data, 50)\n",
        "q3 = np.percentile(data, 75)\n",
        "iqr = q3 - q1\n",
        "print(\"Q1 =\", q1)\n",
        "print(\"Q2 (median) =\", q2)\n",
        "print(\"Q3 =\", q3)\n",
        "print(\"IQR =\",iqr)"
      ],
      "metadata": {
        "colab": {
          "base_uri": "https://localhost:8080/"
        },
        "id": "fHd8qQ5hktC4",
        "outputId": "b844c6b1-0b81-4861-e39e-c7285ff00d2c"
      },
      "execution_count": 3,
      "outputs": [
        {
          "output_type": "stream",
          "name": "stdout",
          "text": [
            "Q1 = 6.5\n",
            "Q2 (median) = 7.0\n",
            "Q3 = 9.25\n",
            "IQR = 2.75\n"
          ]
        }
      ]
    },
    {
      "cell_type": "code",
      "source": [
        "data = [10, 20, 30, 40, 50]\n",
        "mean = sum(data) / len(data)\n",
        "variance = sum((x - mean) ** 2 for x in data) / len(data)\n",
        "std_dev = variance ** 0.5\n",
        "z_scores = [(x - mean) / std_dev for x in data]\n",
        "print(\"Z-scores:\", z_scores)"
      ],
      "metadata": {
        "id": "R4HCK5a8nXPH",
        "colab": {
          "base_uri": "https://localhost:8080/"
        },
        "outputId": "1edd3b81-4c4e-4add-bedc-cd5e158fb79b"
      },
      "execution_count": 5,
      "outputs": [
        {
          "output_type": "stream",
          "name": "stdout",
          "text": [
            "Z-scores: [-1.414213562373095, -0.7071067811865475, 0.0, 0.7071067811865475, 1.414213562373095]\n"
          ]
        }
      ]
    },
    {
      "cell_type": "code",
      "source": [
        "import random\n",
        "import numpy as np\n",
        "data = [random.randint(1, 100) for _ in range(20)]\n",
        "print(\"Data:\", data)\n",
        "#Moving average using list slicing\n",
        "window_size = 3\n",
        "moving_avg_slicing = [\n",
        "    sum(data[i:i+window_size]) / window_size\n",
        "    for i in range(len(data) - window_size + 1)]\n",
        "print(\"Moving Average (list slicing):\", moving_avg_slicing)\n",
        "weights = np.ones(window_size) / window_size\n",
        "#Compare with numpy.convolve().\n",
        "moving_avg_convolve = np.convolve(data, weights, mode='valid')\n",
        "print(\"(numpy.convolve):\", moving_avg_convolve.tolist())\n",
        "comparison = all(\n",
        "    abs(a - b) < 1e-9 for a, b in zip(moving_avg_slicing, moving_avg_convolve))\n",
        "print(\"Results:\",comparison)"
      ],
      "metadata": {
        "colab": {
          "base_uri": "https://localhost:8080/"
        },
        "id": "19KROCgeCrZp",
        "outputId": "0abe14a4-3457-4217-9b5a-5aca6660bd64"
      },
      "execution_count": 9,
      "outputs": [
        {
          "output_type": "stream",
          "name": "stdout",
          "text": [
            "Data: [73, 50, 67, 99, 87, 69, 14, 99, 95, 64, 40, 20, 3, 33, 2, 58, 9, 19, 81, 8]\n",
            "Moving Average (list slicing): [63.333333333333336, 72.0, 84.33333333333333, 85.0, 56.666666666666664, 60.666666666666664, 69.33333333333333, 86.0, 66.33333333333333, 41.333333333333336, 21.0, 18.666666666666668, 12.666666666666666, 31.0, 23.0, 28.666666666666668, 36.333333333333336, 36.0]\n",
            "(numpy.convolve): [63.33333333333333, 72.0, 84.33333333333333, 85.0, 56.666666666666664, 60.666666666666664, 69.33333333333333, 85.99999999999999, 66.33333333333333, 41.33333333333333, 21.0, 18.666666666666664, 12.666666666666666, 31.0, 23.0, 28.666666666666664, 36.33333333333333, 36.0]\n",
            "Results: True\n"
          ]
        }
      ]
    },
    {
      "cell_type": "code",
      "source": [
        "numbers = np.random.randint(1, 51, 25)\n",
        "numbers =np.append(numbers,(300,400))\n",
        "print(numbers)\n",
        "q1 = np.percentile(numbers, 25)\n",
        "q2 = np.percentile(numbers, 50)\n",
        "q3 = np.percentile(numbers, 75)\n",
        "iqr = q3 - q1\n",
        "print(\"Q1 =\", q1)\n",
        "print(\"Q2 (median) =\", q2)\n",
        "print(\"Q3 =\", q3)\n",
        "print(\"IQR =\",iqr)\n",
        "Upper = q3 + 1.5 * iqr\n",
        "Lower = q1 - 1.5 * iqr\n",
        "print(\"Upper bound:\", Upper)\n",
        "print(\"Lower bound:\", Lower)\n",
        "outliers= []\n",
        "for x in numbers:\n",
        "    if x > Upper:\n",
        "        outliers.append(x)\n",
        "    if x < Lower:\n",
        "        outliers.append(x)\n",
        "print(\"Outliers:\", outliers)"
      ],
      "metadata": {
        "colab": {
          "base_uri": "https://localhost:8080/"
        },
        "id": "bFXlg9_wLYUl",
        "outputId": "23b72acb-e89f-448d-8735-d9db38041fec"
      },
      "execution_count": 24,
      "outputs": [
        {
          "output_type": "stream",
          "name": "stdout",
          "text": [
            "[ 13  24   7  41  14  45  15   5  30  18  45  20  25  41  28  25  43   7\n",
            "  29   6   9  47  30   1   8 300 400]\n",
            "Q1 = 11.0\n",
            "Q2 (median) = 25.0\n",
            "Q3 = 41.0\n",
            "IQR = 30.0\n",
            "Upper bound: 86.0\n",
            "Lower bound: -34.0\n",
            "Outliers: [np.int64(300), np.int64(400)]\n"
          ]
        }
      ]
    }
  ]
}